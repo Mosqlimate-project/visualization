{
 "cells": [
  {
   "cell_type": "code",
   "execution_count": 1,
   "metadata": {},
   "outputs": [],
   "source": [
    "from urllib.request import urlopen\n",
    "import json\n",
    "import plotly.express as px\n",
    "import plotly.graph_objects as go\n",
    "import pandas as pd\n",
    "import geopandas as gpd\n",
    "import altair as alt"
   ]
  },
  {
   "cell_type": "code",
   "execution_count": 25,
   "metadata": {},
   "outputs": [],
   "source": [
    "with urlopen('https://raw.githubusercontent.com/codeforamerica/click_that_hood/master/public/data/brazil-states.geojson') as response:\n",
    "    Brazil = json.load(response) # Javascrip object notation "
   ]
  },
  {
   "cell_type": "code",
   "execution_count": 27,
   "metadata": {},
   "outputs": [],
   "source": [
    "state_id_map = {}\n",
    "for feature in Brazil ['features']:\n",
    "    feature['id'] = feature['properties']['sigla']\n",
    "    state_id_map[feature['properties']['sigla']] = feature['id']"
   ]
  },
  {
   "cell_type": "code",
   "execution_count": 28,
   "metadata": {},
   "outputs": [
    {
     "data": {
      "text/html": [
       "<div>\n",
       "<style scoped>\n",
       "    .dataframe tbody tr th:only-of-type {\n",
       "        vertical-align: middle;\n",
       "    }\n",
       "\n",
       "    .dataframe tbody tr th {\n",
       "        vertical-align: top;\n",
       "    }\n",
       "\n",
       "    .dataframe thead th {\n",
       "        text-align: right;\n",
       "    }\n",
       "</style>\n",
       "<table border=\"1\" class=\"dataframe\">\n",
       "  <thead>\n",
       "    <tr style=\"text-align: right;\">\n",
       "      <th></th>\n",
       "      <th>casos</th>\n",
       "      <th>pop</th>\n",
       "      <th>inc</th>\n",
       "      <th>trimestre</th>\n",
       "      <th>UF</th>\n",
       "      <th>trimestre-tick</th>\n",
       "      <th>regiao</th>\n",
       "    </tr>\n",
       "    <tr>\n",
       "      <th>data_iniSE</th>\n",
       "      <th></th>\n",
       "      <th></th>\n",
       "      <th></th>\n",
       "      <th></th>\n",
       "      <th></th>\n",
       "      <th></th>\n",
       "      <th></th>\n",
       "    </tr>\n",
       "  </thead>\n",
       "  <tbody>\n",
       "    <tr>\n",
       "      <th>2010-03-31</th>\n",
       "      <td>9888</td>\n",
       "      <td>15989929.0</td>\n",
       "      <td>0.000618</td>\n",
       "      <td>201001</td>\n",
       "      <td>RJ</td>\n",
       "      <td>1° - 2010</td>\n",
       "      <td>Sudeste</td>\n",
       "    </tr>\n",
       "    <tr>\n",
       "      <th>2010-06-30</th>\n",
       "      <td>20522</td>\n",
       "      <td>15989929.0</td>\n",
       "      <td>0.001283</td>\n",
       "      <td>201002</td>\n",
       "      <td>RJ</td>\n",
       "      <td>2° - 2010</td>\n",
       "      <td>Sudeste</td>\n",
       "    </tr>\n",
       "    <tr>\n",
       "      <th>2010-09-30</th>\n",
       "      <td>7405</td>\n",
       "      <td>15989929.0</td>\n",
       "      <td>0.000463</td>\n",
       "      <td>201003</td>\n",
       "      <td>RJ</td>\n",
       "      <td>3° - 2010</td>\n",
       "      <td>Sudeste</td>\n",
       "    </tr>\n",
       "    <tr>\n",
       "      <th>2010-12-31</th>\n",
       "      <td>5628</td>\n",
       "      <td>15989929.0</td>\n",
       "      <td>0.000352</td>\n",
       "      <td>201004</td>\n",
       "      <td>RJ</td>\n",
       "      <td>4° - 2010</td>\n",
       "      <td>Sudeste</td>\n",
       "    </tr>\n",
       "    <tr>\n",
       "      <th>2011-03-31</th>\n",
       "      <td>73770</td>\n",
       "      <td>16112637.0</td>\n",
       "      <td>0.004578</td>\n",
       "      <td>201101</td>\n",
       "      <td>RJ</td>\n",
       "      <td>1° - 2011</td>\n",
       "      <td>Sudeste</td>\n",
       "    </tr>\n",
       "  </tbody>\n",
       "</table>\n",
       "</div>"
      ],
      "text/plain": [
       "            casos         pop       inc  trimestre  UF trimestre-tick   regiao\n",
       "data_iniSE                                                                    \n",
       "2010-03-31   9888  15989929.0  0.000618     201001  RJ      1° - 2010  Sudeste\n",
       "2010-06-30  20522  15989929.0  0.001283     201002  RJ      2° - 2010  Sudeste\n",
       "2010-09-30   7405  15989929.0  0.000463     201003  RJ      3° - 2010  Sudeste\n",
       "2010-12-31   5628  15989929.0  0.000352     201004  RJ      4° - 2010  Sudeste\n",
       "2011-03-31  73770  16112637.0  0.004578     201101  RJ      1° - 2011  Sudeste"
      ]
     },
     "execution_count": 28,
     "metadata": {},
     "output_type": "execute_result"
    }
   ],
   "source": [
    "agravo = 'dengue'\n",
    "df = pd.read_csv(f'../cases/data/{agravo}_br_2010-2022_quarter.csv')\n",
    "df.set_index('data_iniSE', inplace = True)\n",
    "df.head()"
   ]
  },
  {
   "cell_type": "markdown",
   "metadata": {},
   "source": [
    "Maps:"
   ]
  },
  {
   "cell_type": "code",
   "execution_count": null,
   "metadata": {},
   "outputs": [],
   "source": [
    "fig = px.choropleth(\n",
    "    df, #database\n",
    "    locations = 'UF', #define the limits on the map/geography\n",
    "    geojson = Brazil, #shape information\n",
    "    color = \"inc\", #defining the color of the scale through the database\n",
    "    hover_name = 'UF', #the information in the box\n",
    "    color_continuous_scale = \"Viridis\", #color scale\n",
    "    labels = {'inc': 'Incidence'}, #label of the scale\n",
    ")\n",
    "fig.update_geos(fitbounds = \"locations\", visible = False)\n",
    "fig.show()"
   ]
  },
  {
   "cell_type": "markdown",
   "metadata": {},
   "source": [
    "With animation:"
   ]
  },
  {
   "cell_type": "code",
   "execution_count": null,
   "metadata": {},
   "outputs": [],
   "source": [
    "fig = px.choropleth(\n",
    "    df, #database\n",
    "    locations = 'UF', #define the limits on the map/geography\n",
    "    geojson = Brazil, #shape information\n",
    "    color = \"inc\", #defining the color of the scale through the database\n",
    "    hover_name = 'UF', #the information in the box\n",
    "    color_continuous_scale = \"Viridis\", #color scale\n",
    "    labels = {'inc': 'Incidence'}, #label of the scale\n",
    "    animation_frame = 'trimestre-tick', #creating the application based on the year\n",
    "    height=1000\n",
    ")\n",
    "fig.update_geos(fitbounds = \"locations\", visible = False)\n",
    "fig.show()"
   ]
  }
 ],
 "metadata": {
  "kernelspec": {
   "display_name": "base",
   "language": "python",
   "name": "python3"
  },
  "language_info": {
   "codemirror_mode": {
    "name": "ipython",
    "version": 3
   },
   "file_extension": ".py",
   "mimetype": "text/x-python",
   "name": "python",
   "nbconvert_exporter": "python",
   "pygments_lexer": "ipython3",
   "version": "3.11.4"
  }
 },
 "nbformat": 4,
 "nbformat_minor": 2
}
